{
 "cells": [
  {
   "cell_type": "code",
   "execution_count": 3,
   "metadata": {},
   "outputs": [],
   "source": [
    "import pandas as pd\n"
   ]
  },
  {
   "cell_type": "code",
   "execution_count": 4,
   "metadata": {},
   "outputs": [
    {
     "name": "stdout",
     "output_type": "stream",
     "text": [
      "SkyNews_data_2024_09_11_1.csv\n",
      "SkyNews_data_2024_09_11_2.csv\n",
      "603\n"
     ]
    }
   ],
   "source": [
    "df = pd.DataFrame()\n",
    "\n",
    "for i in range(1,3):\n",
    "    i = str(i)\n",
    "    try:\n",
    "        path_main = \"SkyNews_data_2024_09_11_\" + i + \".csv\"\n",
    "        df_sub = pd.read_csv(path_main)\n",
    "        print(path_main)\n",
    "        df = pd.concat([df, df_sub], ignore_index=True) \n",
    "    except Exception as e:\n",
    "\n",
    "        print(e)\n",
    "print(len(df))"
   ]
  },
  {
   "cell_type": "code",
   "execution_count": 5,
   "metadata": {},
   "outputs": [
    {
     "data": {
      "text/plain": [
       "Index(['Publication_date', 'Source', 'Scraped_category', 'Title', 'Summary',\n",
       "       'Article_Url'],\n",
       "      dtype='object')"
      ]
     },
     "execution_count": 5,
     "metadata": {},
     "output_type": "execute_result"
    }
   ],
   "source": [
    "df.columns"
   ]
  },
  {
   "cell_type": "code",
   "execution_count": 6,
   "metadata": {},
   "outputs": [],
   "source": [
    "df = df.dropna(subset=['Publication_date'])"
   ]
  },
  {
   "cell_type": "code",
   "execution_count": 7,
   "metadata": {},
   "outputs": [
    {
     "name": "stdout",
     "output_type": "stream",
     "text": [
      "597\n",
      "592\n"
     ]
    }
   ],
   "source": [
    "print(len(df))\n",
    "df.drop_duplicates(subset=['Publication_date', 'Source', 'Scraped_category', 'Title', 'Summary',\n",
    "       'Article_Url'], keep=\"first\", inplace=True)\n",
    "print(len(df))"
   ]
  },
  {
   "cell_type": "code",
   "execution_count": 8,
   "metadata": {},
   "outputs": [],
   "source": [
    "df.to_csv(\"SkyNews_data_2024_09_11.csv\", columns=['Publication_date', 'Source', 'Scraped_category', 'Title', 'Summary',\n",
    "       'Article_Url'], index = False)"
   ]
  },
  {
   "cell_type": "code",
   "execution_count": 16,
   "metadata": {},
   "outputs": [
    {
     "name": "stdout",
     "output_type": "stream",
     "text": [
      "15822\n"
     ]
    }
   ],
   "source": []
  },
  {
   "cell_type": "code",
   "execution_count": null,
   "metadata": {},
   "outputs": [],
   "source": []
  }
 ],
 "metadata": {
  "kernelspec": {
   "display_name": "Python 3",
   "language": "python",
   "name": "python3"
  },
  "language_info": {
   "codemirror_mode": {
    "name": "ipython",
    "version": 3
   },
   "file_extension": ".py",
   "mimetype": "text/x-python",
   "name": "python",
   "nbconvert_exporter": "python",
   "pygments_lexer": "ipython3",
   "version": "3.12.5"
  }
 },
 "nbformat": 4,
 "nbformat_minor": 2
}
